{
 "cells": [
  {
   "cell_type": "code",
   "execution_count": 95,
   "metadata": {},
   "outputs": [],
   "source": [
    "import numpy as np\n",
    "import pandas as pd\n",
    "from scipy.stats import norm\n",
    "import time\n",
    "import seaborn as sns\n",
    "import matplotlib.pyplot as plt\n",
    "import pandahouse as ph\n",
    "\n",
    "plt.style.use('ggplot')\n",
    "sns.set(rc={'figure.figsize': (12, 4)}, style=\"whitegrid\")"
   ]
  },
  {
   "cell_type": "markdown",
   "metadata": {},
   "source": [
    "Задание 1. A/B–тестирование\n",
    "\n",
    "1.1 Условие\n",
    "\n",
    "Одной из основных задач аналитика в нашей команде является корректное проведение экспериментов. Для этого мы применяем метод A/B–тестирования. В ходе тестирования одной гипотезы целевой группе была предложена новая механика оплаты услуг на сайте, у контрольной группы оставалась базовая механика. В качестве задания Вам необходимо проанализировать итоги эксперимента и сделать вывод, стоит ли запускать новую механику оплаты на всех пользователей."
   ]
  },
  {
   "cell_type": "markdown",
   "metadata": {},
   "source": [
    "Входные данные\n",
    "\n",
    "В качестве входных данных Вы имеете 4 csv-файла:\n",
    "\n",
    "groups.csv - файл с информацией о принадлежности пользователя к контрольной или экспериментальной группе (А – контроль, B – целевая группа)\n",
    "\n",
    "groups_add.csv - дополнительный файл с пользователями, который вам прислали спустя 2 дня после передачи данных\n",
    "\n",
    "active_studs.csv - файл с информацией о пользователях, которые зашли на платформу в дни проведения эксперимента\n",
    "\n",
    "checks.csv - файл с информацией об оплатах пользователей в дни проведения эксперимента."
   ]
  },
  {
   "cell_type": "code",
   "execution_count": 96,
   "metadata": {},
   "outputs": [
    {
     "data": {
      "text/html": [
       "<div>\n",
       "<style scoped>\n",
       "    .dataframe tbody tr th:only-of-type {\n",
       "        vertical-align: middle;\n",
       "    }\n",
       "\n",
       "    .dataframe tbody tr th {\n",
       "        vertical-align: top;\n",
       "    }\n",
       "\n",
       "    .dataframe thead th {\n",
       "        text-align: right;\n",
       "    }\n",
       "</style>\n",
       "<table border=\"1\" class=\"dataframe\">\n",
       "  <thead>\n",
       "    <tr style=\"text-align: right;\">\n",
       "      <th></th>\n",
       "      <th>id</th>\n",
       "      <th>grp</th>\n",
       "    </tr>\n",
       "  </thead>\n",
       "  <tbody>\n",
       "    <tr>\n",
       "      <th>0</th>\n",
       "      <td>1489</td>\n",
       "      <td>B</td>\n",
       "    </tr>\n",
       "    <tr>\n",
       "      <th>1</th>\n",
       "      <td>1627</td>\n",
       "      <td>A</td>\n",
       "    </tr>\n",
       "    <tr>\n",
       "      <th>2</th>\n",
       "      <td>1768</td>\n",
       "      <td>B</td>\n",
       "    </tr>\n",
       "  </tbody>\n",
       "</table>\n",
       "</div>"
      ],
      "text/plain": [
       "     id grp\n",
       "0  1489   B\n",
       "1  1627   A\n",
       "2  1768   B"
      ]
     },
     "execution_count": 96,
     "metadata": {},
     "output_type": "execute_result"
    }
   ],
   "source": [
    "groups = pd.read_csv('Проект_2_groups.csv', sep=';')\n",
    "groups.head(3)"
   ]
  },
  {
   "cell_type": "code",
   "execution_count": 97,
   "metadata": {},
   "outputs": [
    {
     "data": {
      "text/plain": [
       "id      int64\n",
       "grp    object\n",
       "dtype: object"
      ]
     },
     "execution_count": 97,
     "metadata": {},
     "output_type": "execute_result"
    }
   ],
   "source": [
    "groups.dtypes"
   ]
  },
  {
   "cell_type": "code",
   "execution_count": 98,
   "metadata": {},
   "outputs": [
    {
     "data": {
      "text/plain": [
       "(74484, 2)"
      ]
     },
     "execution_count": 98,
     "metadata": {},
     "output_type": "execute_result"
    }
   ],
   "source": [
    "groups.shape"
   ]
  },
  {
   "cell_type": "code",
   "execution_count": 99,
   "metadata": {},
   "outputs": [
    {
     "data": {
      "text/plain": [
       "74484"
      ]
     },
     "execution_count": 99,
     "metadata": {},
     "output_type": "execute_result"
    }
   ],
   "source": [
    "# проверяем количестов уникальных пользователей\n",
    "groups.id.nunique()"
   ]
  },
  {
   "cell_type": "code",
   "execution_count": 100,
   "metadata": {},
   "outputs": [
    {
     "data": {
      "text/html": [
       "<div>\n",
       "<style scoped>\n",
       "    .dataframe tbody tr th:only-of-type {\n",
       "        vertical-align: middle;\n",
       "    }\n",
       "\n",
       "    .dataframe tbody tr th {\n",
       "        vertical-align: top;\n",
       "    }\n",
       "\n",
       "    .dataframe thead th {\n",
       "        text-align: right;\n",
       "    }\n",
       "</style>\n",
       "<table border=\"1\" class=\"dataframe\">\n",
       "  <thead>\n",
       "    <tr style=\"text-align: right;\">\n",
       "      <th></th>\n",
       "      <th>id</th>\n",
       "      <th>grp</th>\n",
       "    </tr>\n",
       "  </thead>\n",
       "  <tbody>\n",
       "    <tr>\n",
       "      <th>0</th>\n",
       "      <td>5694584</td>\n",
       "      <td>B</td>\n",
       "    </tr>\n",
       "    <tr>\n",
       "      <th>1</th>\n",
       "      <td>5694830</td>\n",
       "      <td>B</td>\n",
       "    </tr>\n",
       "    <tr>\n",
       "      <th>2</th>\n",
       "      <td>5695057</td>\n",
       "      <td>B</td>\n",
       "    </tr>\n",
       "  </tbody>\n",
       "</table>\n",
       "</div>"
      ],
      "text/plain": [
       "        id grp\n",
       "0  5694584   B\n",
       "1  5694830   B\n",
       "2  5695057   B"
      ]
     },
     "execution_count": 100,
     "metadata": {},
     "output_type": "execute_result"
    }
   ],
   "source": [
    "group_add = pd.read_csv('Проект_2_group_add.csv', sep=',')\n",
    "group_add.head(3)"
   ]
  },
  {
   "cell_type": "code",
   "execution_count": 101,
   "metadata": {},
   "outputs": [
    {
     "data": {
      "text/plain": [
       "(92, 2)"
      ]
     },
     "execution_count": 101,
     "metadata": {},
     "output_type": "execute_result"
    }
   ],
   "source": [
    "group_add.shape"
   ]
  },
  {
   "cell_type": "code",
   "execution_count": 102,
   "metadata": {},
   "outputs": [
    {
     "data": {
      "text/html": [
       "<div>\n",
       "<style scoped>\n",
       "    .dataframe tbody tr th:only-of-type {\n",
       "        vertical-align: middle;\n",
       "    }\n",
       "\n",
       "    .dataframe tbody tr th {\n",
       "        vertical-align: top;\n",
       "    }\n",
       "\n",
       "    .dataframe thead th {\n",
       "        text-align: right;\n",
       "    }\n",
       "</style>\n",
       "<table border=\"1\" class=\"dataframe\">\n",
       "  <thead>\n",
       "    <tr style=\"text-align: right;\">\n",
       "      <th></th>\n",
       "      <th>id</th>\n",
       "      <th>grp</th>\n",
       "    </tr>\n",
       "  </thead>\n",
       "  <tbody>\n",
       "    <tr>\n",
       "      <th>0</th>\n",
       "      <td>1489</td>\n",
       "      <td>B</td>\n",
       "    </tr>\n",
       "    <tr>\n",
       "      <th>1</th>\n",
       "      <td>1627</td>\n",
       "      <td>A</td>\n",
       "    </tr>\n",
       "    <tr>\n",
       "      <th>2</th>\n",
       "      <td>1768</td>\n",
       "      <td>B</td>\n",
       "    </tr>\n",
       "  </tbody>\n",
       "</table>\n",
       "</div>"
      ],
      "text/plain": [
       "     id grp\n",
       "0  1489   B\n",
       "1  1627   A\n",
       "2  1768   B"
      ]
     },
     "execution_count": 102,
     "metadata": {},
     "output_type": "execute_result"
    }
   ],
   "source": [
    "# дополняем файл информацией, которую получили через 2 дня\n",
    "groups  = pd.concat([groups, group_add], ignore_index=True)\n",
    "groups.head(3)"
   ]
  },
  {
   "cell_type": "code",
   "execution_count": 103,
   "metadata": {},
   "outputs": [
    {
     "data": {
      "text/plain": [
       "(74576, 2)"
      ]
     },
     "execution_count": 103,
     "metadata": {},
     "output_type": "execute_result"
    }
   ],
   "source": [
    "groups.shape"
   ]
  },
  {
   "cell_type": "code",
   "execution_count": 104,
   "metadata": {},
   "outputs": [
    {
     "data": {
      "text/plain": [
       "74576"
      ]
     },
     "execution_count": 104,
     "metadata": {},
     "output_type": "execute_result"
    }
   ],
   "source": [
    "# проверяем количество уникальных пользователей\n",
    "groups.id.nunique()"
   ]
  },
  {
   "cell_type": "markdown",
   "metadata": {},
   "source": [
    "Делаем вывод, что все дополнительный датафрейм не имеет дубликатов и мы просто добавили новых пользователей, участников эксперимента."
   ]
  },
  {
   "cell_type": "code",
   "execution_count": 105,
   "metadata": {},
   "outputs": [
    {
     "data": {
      "text/html": [
       "<div>\n",
       "<style scoped>\n",
       "    .dataframe tbody tr th:only-of-type {\n",
       "        vertical-align: middle;\n",
       "    }\n",
       "\n",
       "    .dataframe tbody tr th {\n",
       "        vertical-align: top;\n",
       "    }\n",
       "\n",
       "    .dataframe thead th {\n",
       "        text-align: right;\n",
       "    }\n",
       "</style>\n",
       "<table border=\"1\" class=\"dataframe\">\n",
       "  <thead>\n",
       "    <tr style=\"text-align: right;\">\n",
       "      <th></th>\n",
       "      <th>student_id</th>\n",
       "    </tr>\n",
       "  </thead>\n",
       "  <tbody>\n",
       "    <tr>\n",
       "      <th>0</th>\n",
       "      <td>581585</td>\n",
       "    </tr>\n",
       "    <tr>\n",
       "      <th>1</th>\n",
       "      <td>5723133</td>\n",
       "    </tr>\n",
       "    <tr>\n",
       "      <th>2</th>\n",
       "      <td>3276743</td>\n",
       "    </tr>\n",
       "  </tbody>\n",
       "</table>\n",
       "</div>"
      ],
      "text/plain": [
       "   student_id\n",
       "0      581585\n",
       "1     5723133\n",
       "2     3276743"
      ]
     },
     "execution_count": 105,
     "metadata": {},
     "output_type": "execute_result"
    }
   ],
   "source": [
    "active_studs = pd.read_csv('Проект_2_active_studs.csv')\n",
    "active_studs.head(3)"
   ]
  },
  {
   "cell_type": "code",
   "execution_count": 106,
   "metadata": {},
   "outputs": [
    {
     "data": {
      "text/plain": [
       "student_id    int64\n",
       "dtype: object"
      ]
     },
     "execution_count": 106,
     "metadata": {},
     "output_type": "execute_result"
    }
   ],
   "source": [
    "active_studs.dtypes"
   ]
  },
  {
   "cell_type": "code",
   "execution_count": 107,
   "metadata": {},
   "outputs": [
    {
     "data": {
      "text/plain": [
       "(8341, 1)"
      ]
     },
     "execution_count": 107,
     "metadata": {},
     "output_type": "execute_result"
    }
   ],
   "source": [
    "active_studs.shape"
   ]
  },
  {
   "cell_type": "code",
   "execution_count": 108,
   "metadata": {},
   "outputs": [
    {
     "data": {
      "text/html": [
       "<div>\n",
       "<style scoped>\n",
       "    .dataframe tbody tr th:only-of-type {\n",
       "        vertical-align: middle;\n",
       "    }\n",
       "\n",
       "    .dataframe tbody tr th {\n",
       "        vertical-align: top;\n",
       "    }\n",
       "\n",
       "    .dataframe thead th {\n",
       "        text-align: right;\n",
       "    }\n",
       "</style>\n",
       "<table border=\"1\" class=\"dataframe\">\n",
       "  <thead>\n",
       "    <tr style=\"text-align: right;\">\n",
       "      <th></th>\n",
       "      <th>student_id</th>\n",
       "      <th>grp</th>\n",
       "    </tr>\n",
       "  </thead>\n",
       "  <tbody>\n",
       "    <tr>\n",
       "      <th>0</th>\n",
       "      <td>581585</td>\n",
       "      <td>A</td>\n",
       "    </tr>\n",
       "    <tr>\n",
       "      <th>1</th>\n",
       "      <td>5723133</td>\n",
       "      <td>A</td>\n",
       "    </tr>\n",
       "    <tr>\n",
       "      <th>2</th>\n",
       "      <td>3276743</td>\n",
       "      <td>B</td>\n",
       "    </tr>\n",
       "  </tbody>\n",
       "</table>\n",
       "</div>"
      ],
      "text/plain": [
       "   student_id grp\n",
       "0      581585   A\n",
       "1     5723133   A\n",
       "2     3276743   B"
      ]
     },
     "execution_count": 108,
     "metadata": {},
     "output_type": "execute_result"
    }
   ],
   "source": [
    "# переименовываем столбец для merge (т.к. пользователи и студенты имеют одни id).Объединяем таблицы \n",
    "# active_studs и groups. И выделяем участников эксперимента. \n",
    "groups = groups.rename(columns={'id': 'student_id'})\n",
    "active_studs_check = active_studs.merge(groups, how='left', on='student_id')\n",
    "active_studs_check.head(3)"
   ]
  },
  {
   "cell_type": "code",
   "execution_count": 109,
   "metadata": {},
   "outputs": [
    {
     "data": {
      "text/plain": [
       "(8341, 2)"
      ]
     },
     "execution_count": 109,
     "metadata": {},
     "output_type": "execute_result"
    }
   ],
   "source": [
    "active_studs_check.shape"
   ]
  },
  {
   "cell_type": "code",
   "execution_count": 110,
   "metadata": {},
   "outputs": [
    {
     "data": {
      "text/html": [
       "<div>\n",
       "<style scoped>\n",
       "    .dataframe tbody tr th:only-of-type {\n",
       "        vertical-align: middle;\n",
       "    }\n",
       "\n",
       "    .dataframe tbody tr th {\n",
       "        vertical-align: top;\n",
       "    }\n",
       "\n",
       "    .dataframe thead th {\n",
       "        text-align: right;\n",
       "    }\n",
       "</style>\n",
       "<table border=\"1\" class=\"dataframe\">\n",
       "  <thead>\n",
       "    <tr style=\"text-align: right;\">\n",
       "      <th></th>\n",
       "      <th>student_id</th>\n",
       "      <th>rev</th>\n",
       "    </tr>\n",
       "  </thead>\n",
       "  <tbody>\n",
       "    <tr>\n",
       "      <th>0</th>\n",
       "      <td>1627</td>\n",
       "      <td>990.0</td>\n",
       "    </tr>\n",
       "    <tr>\n",
       "      <th>1</th>\n",
       "      <td>3185</td>\n",
       "      <td>690.0</td>\n",
       "    </tr>\n",
       "    <tr>\n",
       "      <th>2</th>\n",
       "      <td>25973</td>\n",
       "      <td>690.0</td>\n",
       "    </tr>\n",
       "  </tbody>\n",
       "</table>\n",
       "</div>"
      ],
      "text/plain": [
       "   student_id    rev\n",
       "0        1627  990.0\n",
       "1        3185  690.0\n",
       "2       25973  690.0"
      ]
     },
     "execution_count": 110,
     "metadata": {},
     "output_type": "execute_result"
    }
   ],
   "source": [
    "checks = pd.read_csv('Проект_2_checks.csv', sep=';')\n",
    "checks.head(3)"
   ]
  },
  {
   "cell_type": "code",
   "execution_count": 111,
   "metadata": {},
   "outputs": [
    {
     "data": {
      "text/plain": [
       "student_id      int64\n",
       "rev           float64\n",
       "dtype: object"
      ]
     },
     "execution_count": 111,
     "metadata": {},
     "output_type": "execute_result"
    }
   ],
   "source": [
    "checks.dtypes"
   ]
  },
  {
   "cell_type": "code",
   "execution_count": 112,
   "metadata": {},
   "outputs": [
    {
     "data": {
      "text/plain": [
       "(541, 2)"
      ]
     },
     "execution_count": 112,
     "metadata": {},
     "output_type": "execute_result"
    }
   ],
   "source": [
    "checks.shape"
   ]
  },
  {
   "cell_type": "code",
   "execution_count": 113,
   "metadata": {},
   "outputs": [
    {
     "data": {
      "text/html": [
       "<div>\n",
       "<style scoped>\n",
       "    .dataframe tbody tr th:only-of-type {\n",
       "        vertical-align: middle;\n",
       "    }\n",
       "\n",
       "    .dataframe tbody tr th {\n",
       "        vertical-align: top;\n",
       "    }\n",
       "\n",
       "    .dataframe thead th {\n",
       "        text-align: right;\n",
       "    }\n",
       "</style>\n",
       "<table border=\"1\" class=\"dataframe\">\n",
       "  <thead>\n",
       "    <tr style=\"text-align: right;\">\n",
       "      <th></th>\n",
       "      <th>student_id</th>\n",
       "      <th>grp</th>\n",
       "      <th>rev</th>\n",
       "    </tr>\n",
       "  </thead>\n",
       "  <tbody>\n",
       "    <tr>\n",
       "      <th>0</th>\n",
       "      <td>581585</td>\n",
       "      <td>A</td>\n",
       "      <td>NaN</td>\n",
       "    </tr>\n",
       "    <tr>\n",
       "      <th>1</th>\n",
       "      <td>5723133</td>\n",
       "      <td>A</td>\n",
       "      <td>NaN</td>\n",
       "    </tr>\n",
       "    <tr>\n",
       "      <th>2</th>\n",
       "      <td>3276743</td>\n",
       "      <td>B</td>\n",
       "      <td>NaN</td>\n",
       "    </tr>\n",
       "    <tr>\n",
       "      <th>3</th>\n",
       "      <td>4238589</td>\n",
       "      <td>A</td>\n",
       "      <td>NaN</td>\n",
       "    </tr>\n",
       "    <tr>\n",
       "      <th>4</th>\n",
       "      <td>4475369</td>\n",
       "      <td>B</td>\n",
       "      <td>NaN</td>\n",
       "    </tr>\n",
       "  </tbody>\n",
       "</table>\n",
       "</div>"
      ],
      "text/plain": [
       "   student_id grp  rev\n",
       "0      581585   A  NaN\n",
       "1     5723133   A  NaN\n",
       "2     3276743   B  NaN\n",
       "3     4238589   A  NaN\n",
       "4     4475369   B  NaN"
      ]
     },
     "execution_count": 113,
     "metadata": {},
     "output_type": "execute_result"
    }
   ],
   "source": [
    "# объединяем датафреймы с данными о студентах участвующих в эксперименте и оплатах\n",
    "active_studs_check = active_studs_check.merge(checks, how='left', on='student_id')\n",
    "active_studs_check.head()"
   ]
  },
  {
   "cell_type": "code",
   "execution_count": 114,
   "metadata": {},
   "outputs": [
    {
     "data": {
      "text/plain": [
       "(8341, 3)"
      ]
     },
     "execution_count": 114,
     "metadata": {},
     "output_type": "execute_result"
    }
   ],
   "source": [
    "active_studs_check.shape"
   ]
  },
  {
   "cell_type": "code",
   "execution_count": 115,
   "metadata": {},
   "outputs": [
    {
     "data": {
      "text/html": [
       "<div>\n",
       "<style scoped>\n",
       "    .dataframe tbody tr th:only-of-type {\n",
       "        vertical-align: middle;\n",
       "    }\n",
       "\n",
       "    .dataframe tbody tr th {\n",
       "        vertical-align: top;\n",
       "    }\n",
       "\n",
       "    .dataframe thead th {\n",
       "        text-align: right;\n",
       "    }\n",
       "</style>\n",
       "<table border=\"1\" class=\"dataframe\">\n",
       "  <thead>\n",
       "    <tr style=\"text-align: right;\">\n",
       "      <th></th>\n",
       "      <th>student_id</th>\n",
       "      <th>grp</th>\n",
       "      <th>rev</th>\n",
       "    </tr>\n",
       "  </thead>\n",
       "  <tbody>\n",
       "    <tr>\n",
       "      <th>0</th>\n",
       "      <td>581585</td>\n",
       "      <td>A</td>\n",
       "      <td>0.0</td>\n",
       "    </tr>\n",
       "    <tr>\n",
       "      <th>1</th>\n",
       "      <td>5723133</td>\n",
       "      <td>A</td>\n",
       "      <td>0.0</td>\n",
       "    </tr>\n",
       "    <tr>\n",
       "      <th>2</th>\n",
       "      <td>3276743</td>\n",
       "      <td>B</td>\n",
       "      <td>0.0</td>\n",
       "    </tr>\n",
       "  </tbody>\n",
       "</table>\n",
       "</div>"
      ],
      "text/plain": [
       "   student_id grp  rev\n",
       "0      581585   A  0.0\n",
       "1     5723133   A  0.0\n",
       "2     3276743   B  0.0"
      ]
     },
     "execution_count": 115,
     "metadata": {},
     "output_type": "execute_result"
    }
   ],
   "source": [
    "# поменяем значение NaN на 0, так как фактически это обозначает, \n",
    "# что студент не внес оплату за обучение и не воспользовался механизмом оплаты\n",
    "active_studs_check['rev'] = active_studs_check['rev'].fillna(0)\n",
    "active_studs_check.head(3)"
   ]
  },
  {
   "cell_type": "code",
   "execution_count": 116,
   "metadata": {},
   "outputs": [
    {
     "data": {
      "text/html": [
       "<div>\n",
       "<style scoped>\n",
       "    .dataframe tbody tr th:only-of-type {\n",
       "        vertical-align: middle;\n",
       "    }\n",
       "\n",
       "    .dataframe tbody tr th {\n",
       "        vertical-align: top;\n",
       "    }\n",
       "\n",
       "    .dataframe thead th {\n",
       "        text-align: right;\n",
       "    }\n",
       "</style>\n",
       "<table border=\"1\" class=\"dataframe\">\n",
       "  <thead>\n",
       "    <tr style=\"text-align: right;\">\n",
       "      <th></th>\n",
       "      <th>grp</th>\n",
       "      <th>student_id</th>\n",
       "    </tr>\n",
       "  </thead>\n",
       "  <tbody>\n",
       "    <tr>\n",
       "      <th>0</th>\n",
       "      <td>A</td>\n",
       "      <td>1538</td>\n",
       "    </tr>\n",
       "    <tr>\n",
       "      <th>1</th>\n",
       "      <td>B</td>\n",
       "      <td>6803</td>\n",
       "    </tr>\n",
       "  </tbody>\n",
       "</table>\n",
       "</div>"
      ],
      "text/plain": [
       "  grp  student_id\n",
       "0   A        1538\n",
       "1   B        6803"
      ]
     },
     "execution_count": 116,
     "metadata": {},
     "output_type": "execute_result"
    }
   ],
   "source": [
    "# посмотрим на конверсию внутри групп\n",
    "active_studs_check.groupby('grp', as_index=False).agg({'student_id': 'count'})"
   ]
  },
  {
   "cell_type": "code",
   "execution_count": 117,
   "metadata": {},
   "outputs": [
    {
     "data": {
      "text/plain": [
       "student_id    0.050715\n",
       "dtype: float64"
      ]
     },
     "execution_count": 117,
     "metadata": {},
     "output_type": "execute_result"
    }
   ],
   "source": [
    "CR_control = active_studs_check.query(\"grp == 'A' and rev > 0\").agg({'student_id': 'count'}) / 1538\n",
    "CR_control"
   ]
  },
  {
   "cell_type": "code",
   "execution_count": 118,
   "metadata": {},
   "outputs": [
    {
     "data": {
      "text/plain": [
       "student_id    0.046156\n",
       "dtype: float64"
      ]
     },
     "execution_count": 118,
     "metadata": {},
     "output_type": "execute_result"
    }
   ],
   "source": [
    "CR_test = active_studs_check.query(\"grp == 'B' and rev > 0\").agg({'student_id': 'count'}) / 6803\n",
    "CR_test"
   ]
  },
  {
   "cell_type": "markdown",
   "metadata": {},
   "source": [
    "\n",
    "1.На какие метрики Вы смотрите в ходе анализа и почему?\n",
    "Мы имеем датафрейм с пользователями, которые видели два варианта механики оплаты услуг на сайте. Будем анализировать тех пользователей, которые стали студентами, т.к. только активные пользователи могут видеть механизм оплаты. Основной метрикой будем считать среднюю сумму покупки.\n",
    "\n",
    "Конверсия оплативших студентов незначительно различается и выборка очень небольшая, ее мы оценивать не будем. Очевидно, что новая механика оплаты больше направлена на увеличение средней суммы оплаты. Поэтому формулируем нулевую гипотезу следующим образом.\n",
    "\n",
    "Нулевая гипотеза Н0: различия между механикой оплаты нет \n",
    "\n",
    "и альтернативная гипотеза\n",
    "\n",
    "H1: новая механика оплаты на сайте влияет на средную сумму оплат студентами."
   ]
  },
  {
   "cell_type": "code",
   "execution_count": 119,
   "metadata": {},
   "outputs": [],
   "source": [
    "# формируем отдельно данные тестовой и контрольной группы, чтобы оценить нормальность визуально\n",
    "test = active_studs_check.query(\"grp == 'B'\").rev\n",
    "control = active_studs_check.query(\"grp == 'A'\").rev"
   ]
  },
  {
   "cell_type": "code",
   "execution_count": 120,
   "metadata": {},
   "outputs": [
    {
     "name": "stderr",
     "output_type": "stream",
     "text": [
      "/opt/tljh/user/lib/python3.7/site-packages/seaborn/distributions.py:2557: FutureWarning: `distplot` is a deprecated function and will be removed in a future version. Please adapt your code to use either `displot` (a figure-level function with similar flexibility) or `histplot` (an axes-level function for histograms).\n",
      "  warnings.warn(msg, FutureWarning)\n",
      "/opt/tljh/user/lib/python3.7/site-packages/seaborn/distributions.py:2557: FutureWarning: `distplot` is a deprecated function and will be removed in a future version. Please adapt your code to use either `displot` (a figure-level function with similar flexibility) or `histplot` (an axes-level function for histograms).\n",
      "  warnings.warn(msg, FutureWarning)\n"
     ]
    },
    {
     "data": {
      "text/plain": [
       "<matplotlib.axes._subplots.AxesSubplot at 0x7f56f1fed898>"
      ]
     },
     "execution_count": 120,
     "metadata": {},
     "output_type": "execute_result"
    },
    {
     "data": {
      "image/png": "[encoded data removed]",
      "text/plain": [
       "<Figure size 864x288 with 1 Axes>"
      ]
     },
     "metadata": {},
     "output_type": "display_data"
    }
   ],
   "source": [
    "sns.distplot(test)\n",
    "sns.distplot(control)"
   ]
  },
  {
   "cell_type": "markdown",
   "metadata": {},
   "source": [
    "Визуально по графикам можно сделать вывод, что распределение не выглядит равномерным,также сами выборки не являются равными по количеству пользователей. Поэтому будем  использовать метод BOOTSTRAP для оценивая статистической гипотезы."
   ]
  },
  {
   "cell_type": "code",
   "execution_count": 121,
   "metadata": {},
   "outputs": [],
   "source": [
    "def get_bootstrap(data_column_1, data_column_2, boot_it=1000, statistic=np.mean, bootstrap_conf_level=0.95):\n",
    "    boot_len = max([len(data_column_1), len(data_column_2)])\n",
    "    boot_data = []\n",
    "    for i in range(boot_it):\n",
    "        samples_1 = data_column_1.sample(boot_len, replace=True).values\n",
    "        samples_2 = data_column_2.sample(boot_len, replace=True).values\n",
    "        \n",
    "        boot_data.append(statistic(samples_1 - samples_2)) \n",
    "        # mean() - применяем статистику\n",
    "        \n",
    "    p_1 = norm.cdf(x=0, loc=np.mean(boot_data), scale=np.std(boot_data))\n",
    "    p_2 = norm.cdf(x=0, loc=-np.mean(boot_data), scale=np.std(boot_data))\n",
    "    p_value = min(p_1, p_2) * 2   \n",
    "       \n",
    "    return {\"p_value\": p_value}"
   ]
  },
  {
   "cell_type": "code",
   "execution_count": 122,
   "metadata": {},
   "outputs": [
    {
     "name": "stdout",
     "output_type": "stream",
     "text": [
      "Boot mean: 0.03489016972421875\n",
      "Boot mean: 0.04463164051699688\n",
      "Boot mean: 0.025885008150788622\n",
      "Boot mean: 0.038540302685138014\n",
      "Boot mean: 0.04017613809916934\n",
      "Boot mean: 0.03513998751834858\n",
      "Boot mean: 0.04589972846710404\n",
      "Boot mean: 0.03728665126252193\n",
      "Boot mean: 0.040794349522250105\n",
      "Boot mean: 0.03894926127606028\n"
     ]
    }
   ],
   "source": [
    "x = active_studs_check['rev'][(active_studs_check['grp'] == 'A')]\n",
    "y = active_studs_check['rev'][(active_studs_check['grp'] == 'B')]\n",
    "\n",
    "for i in range(10):\n",
    "    res_b_npmean = get_bootstrap(x, y)\n",
    "        \n",
    "    print(f'Boot mean: {res_b_npmean[\"p_value\"]}')"
   ]
  },
  {
   "cell_type": "markdown",
   "metadata": {},
   "source": [
    "Выводы:\n",
    "\n",
    "Различия являются статистически значеными (p-value <0.05) и гипотеза о том, что новый механизм оплаты влияет на среднюю стоимость оплат студентов с вероятностью 95% может быть принята. \n",
    "\n",
    "Также мы видим, что произошло увеличиение средней стоимсти оплат. И это позволяет принять решение о том, что следует применить данную механику оплаты по всем пользователям."
   ]
  },
  {
   "cell_type": "markdown",
   "metadata": {},
   "source": [
    "Посмотрим, также как изменились показатели средней суммы оплаты студентов."
   ]
  },
  {
   "cell_type": "code",
   "execution_count": 123,
   "metadata": {},
   "outputs": [
    {
     "data": {
      "text/plain": [
       "47.35"
      ]
     },
     "execution_count": 123,
     "metadata": {},
     "output_type": "execute_result"
    }
   ],
   "source": [
    "# средняя стоимость оплат студентов в контрольной группе\n",
    "active_studs_check.query('grp == \"A\"').rev.mean().round(2)"
   ]
  },
  {
   "cell_type": "code",
   "execution_count": 124,
   "metadata": {},
   "outputs": [
    {
     "data": {
      "text/plain": [
       "58.06"
      ]
     },
     "execution_count": 124,
     "metadata": {},
     "output_type": "execute_result"
    }
   ],
   "source": [
    "# средняя стоимость оплат студентов в тестовой группе\n",
    "active_studs_check.query('grp == \"B\"').rev.mean().round(2)"
   ]
  },
  {
   "cell_type": "code",
   "execution_count": 125,
   "metadata": {},
   "outputs": [
    {
     "data": {
      "text/plain": [
       "22.62"
      ]
     },
     "execution_count": 125,
     "metadata": {},
     "output_type": "execute_result"
    }
   ],
   "source": [
    "# процент увеличение средней стоимости оплат.\n",
    "((active_studs_check.query('grp == \"B\"').rev.mean().round(2)/active_studs_check.query('grp == \"A\"')\n",
    ".rev.mean().round(2) - 1) * 100).round(2)"
   ]
  },
  {
   "cell_type": "markdown",
   "metadata": {},
   "source": [
    "Задание 2. SQL\n",
    "2.1 Очень усердные ученики.\n",
    "\n",
    "2.1.1 Условие\n",
    "\n",
    "Образовательные курсы состоят из различных уроков, каждый из которых состоит из нескольких маленьких заданий. Каждое такое маленькое задание называется \"горошиной\".\n",
    "\n",
    "Назовём очень усердным учеником того пользователя, который хотя бы раз за текущий месяц правильно решил 20 горошин.\n",
    "\n",
    "2.1.2 Задача\n",
    "\n",
    "Дана таблица default.peas.\n",
    "\n",
    "Необходимо написать оптимальный запрос, который даст информацию о количестве очень усердных студентов."
   ]
  },
  {
   "cell_type": "code",
   "execution_count": 126,
   "metadata": {},
   "outputs": [],
   "source": [
    "connection_default = {'host': 'http://clickhouse.beslan.pro:8080',\n",
    "                      'database': 'default',\n",
    "                      'user': 'student', \n",
    "                      'password': 'dpo_python_2020'}"
   ]
  },
  {
   "cell_type": "code",
   "execution_count": 127,
   "metadata": {},
   "outputs": [
    {
     "data": {
      "text/html": [
       "<div>\n",
       "<style scoped>\n",
       "    .dataframe tbody tr th:only-of-type {\n",
       "        vertical-align: middle;\n",
       "    }\n",
       "\n",
       "    .dataframe tbody tr th {\n",
       "        vertical-align: top;\n",
       "    }\n",
       "\n",
       "    .dataframe thead th {\n",
       "        text-align: right;\n",
       "    }\n",
       "</style>\n",
       "<table border=\"1\" class=\"dataframe\">\n",
       "  <thead>\n",
       "    <tr style=\"text-align: right;\">\n",
       "      <th></th>\n",
       "      <th>st_id</th>\n",
       "      <th>goroshin_month</th>\n",
       "    </tr>\n",
       "  </thead>\n",
       "  <tbody>\n",
       "    <tr>\n",
       "      <th>0</th>\n",
       "      <td>510283</td>\n",
       "      <td>23</td>\n",
       "    </tr>\n",
       "    <tr>\n",
       "      <th>1</th>\n",
       "      <td>370846</td>\n",
       "      <td>34</td>\n",
       "    </tr>\n",
       "    <tr>\n",
       "      <th>2</th>\n",
       "      <td>43985</td>\n",
       "      <td>28</td>\n",
       "    </tr>\n",
       "    <tr>\n",
       "      <th>3</th>\n",
       "      <td>335446</td>\n",
       "      <td>45</td>\n",
       "    </tr>\n",
       "    <tr>\n",
       "      <th>4</th>\n",
       "      <td>899745</td>\n",
       "      <td>45</td>\n",
       "    </tr>\n",
       "    <tr>\n",
       "      <th>...</th>\n",
       "      <td>...</td>\n",
       "      <td>...</td>\n",
       "    </tr>\n",
       "    <tr>\n",
       "      <th>131</th>\n",
       "      <td>61717</td>\n",
       "      <td>21</td>\n",
       "    </tr>\n",
       "    <tr>\n",
       "      <th>132</th>\n",
       "      <td>98637</td>\n",
       "      <td>40</td>\n",
       "    </tr>\n",
       "    <tr>\n",
       "      <th>133</th>\n",
       "      <td>471168</td>\n",
       "      <td>28</td>\n",
       "    </tr>\n",
       "    <tr>\n",
       "      <th>134</th>\n",
       "      <td>969749</td>\n",
       "      <td>31</td>\n",
       "    </tr>\n",
       "    <tr>\n",
       "      <th>135</th>\n",
       "      <td>658395</td>\n",
       "      <td>41</td>\n",
       "    </tr>\n",
       "  </tbody>\n",
       "</table>\n",
       "<p>136 rows × 2 columns</p>\n",
       "</div>"
      ],
      "text/plain": [
       "      st_id  goroshin_month\n",
       "0    510283              23\n",
       "1    370846              34\n",
       "2     43985              28\n",
       "3    335446              45\n",
       "4    899745              45\n",
       "..      ...             ...\n",
       "131   61717              21\n",
       "132   98637              40\n",
       "133  471168              28\n",
       "134  969749              31\n",
       "135  658395              41\n",
       "\n",
       "[136 rows x 2 columns]"
      ]
     },
     "execution_count": 127,
     "metadata": {},
     "output_type": "execute_result"
    }
   ],
   "source": [
    "# создаем запрос, db автоматически заменится на значение из database\n",
    "q = \"\"\"\n",
    "SELECT\n",
    "st_id,\n",
    "COUNT(correct) AS goroshin_month\n",
    "\n",
    "FROM peas\n",
    "WHERE \n",
    "    correct = 1\n",
    "GROUP By \n",
    "    st_id,\n",
    "    toStartOfMonth(timest)\n",
    "HAVING\n",
    "    goroshin_month >= 20\n",
    "    \"\"\"\n",
    "\n",
    "# отправляем запрос и записываем результат в пандасовский датафрейм\n",
    "q_test = ph.read_clickhouse(query=q, connection=connection_default)\n",
    "q_test"
   ]
  },
  {
   "cell_type": "code",
   "execution_count": 128,
   "metadata": {},
   "outputs": [
    {
     "data": {
      "text/plain": [
       "136"
      ]
     },
     "execution_count": 128,
     "metadata": {},
     "output_type": "execute_result"
    }
   ],
   "source": [
    "# проверим все ли студенты являются уникальных.\n",
    "q_test.st_id.nunique()"
   ]
  },
  {
   "cell_type": "markdown",
   "metadata": {},
   "source": [
    "Вывод: КОЛИЧЕСТВО УСЕРДНЫХ СТУДЕНТОВ 136 ЧЕЛОВЕК"
   ]
  },
  {
   "cell_type": "markdown",
   "metadata": {},
   "source": [
    "2.2 Оптимизация воронки\n",
    "\n",
    "2.2.1 Условие\n",
    "\n",
    "Образовательная платформа предлагает пройти студентам курсы по модели trial: студент может решить бесплатно лишь 30 горошин в день. Для неограниченного количества заданий в определенной дисциплине студенту необходимо приобрести полный доступ. Команда провела эксперимент, где был протестирован новый экран оплаты.\n",
    "\n",
    "2.2.2 Задача\n",
    "\n",
    "Дана таблицы: default.peas (см. выше), default.studs.\n",
    "\n",
    "Необходимо в одном запросе выгрузить следующую информацию о группах пользователей:\n",
    "\n",
    "ARPU \n",
    "\n",
    "ARPAU \n",
    "\n",
    "CR в покупку \n",
    "\n",
    "СR активного пользователя в покупку \n",
    "\n",
    "CR пользователя из активности по математике (subject = ’math’) в покупку курса по математике\n",
    "\n",
    "ARPU считается относительно всех пользователей, попавших в группы.\n",
    "\n",
    "Активным считается пользователь, за все время решивший больше 10 задач правильно в любых дисциплинах.\n",
    "\n",
    "Активным по математике считается пользователь, за все время решивший 2 или больше задач правильно по математике."
   ]
  },
  {
   "cell_type": "code",
   "execution_count": 129,
   "metadata": {},
   "outputs": [
    {
     "data": {
      "text/html": [
       "<div>\n",
       "<style scoped>\n",
       "    .dataframe tbody tr th:only-of-type {\n",
       "        vertical-align: middle;\n",
       "    }\n",
       "\n",
       "    .dataframe tbody tr th {\n",
       "        vertical-align: top;\n",
       "    }\n",
       "\n",
       "    .dataframe thead th {\n",
       "        text-align: right;\n",
       "    }\n",
       "</style>\n",
       "<table border=\"1\" class=\"dataframe\">\n",
       "  <thead>\n",
       "    <tr style=\"text-align: right;\">\n",
       "      <th></th>\n",
       "      <th>test_grp</th>\n",
       "      <th>CR</th>\n",
       "      <th>ARPU</th>\n",
       "      <th>ARPAU</th>\n",
       "      <th>CR_ACTIV</th>\n",
       "      <th>CR_ACTIV_MATH</th>\n",
       "    </tr>\n",
       "  </thead>\n",
       "  <tbody>\n",
       "    <tr>\n",
       "      <th>0</th>\n",
       "      <td>control</td>\n",
       "      <td>4.918033</td>\n",
       "      <td>4540.983607</td>\n",
       "      <td>10393.700787</td>\n",
       "      <td>11.023622</td>\n",
       "      <td>6.122449</td>\n",
       "    </tr>\n",
       "    <tr>\n",
       "      <th>1</th>\n",
       "      <td>pilot</td>\n",
       "      <td>10.847458</td>\n",
       "      <td>11508.474576</td>\n",
       "      <td>29739.583333</td>\n",
       "      <td>26.041667</td>\n",
       "      <td>9.523810</td>\n",
       "    </tr>\n",
       "  </tbody>\n",
       "</table>\n",
       "</div>"
      ],
      "text/plain": [
       "  test_grp         CR          ARPU         ARPAU   CR_ACTIV  CR_ACTIV_MATH\n",
       "0  control   4.918033   4540.983607  10393.700787  11.023622       6.122449\n",
       "1    pilot  10.847458  11508.474576  29739.583333  26.041667       9.523810"
      ]
     },
     "execution_count": 129,
     "metadata": {},
     "output_type": "execute_result"
    }
   ],
   "source": [
    "# создаем запрос, db автоматически заменится на значение из database\n",
    "q = \"\"\"\n",
    "SELECT\n",
    "a.test_grp as test_grp,\n",
    "a.CR as CR,\n",
    "b.APRU as ARPU,\n",
    "c.ARPAU as ARPAU,\n",
    "c.CR_ACTIV as CR_ACTIV,\n",
    "d.CR_ACTIV_MATH as CR_ACTIV_MATH\n",
    "FROM\n",
    "    (\n",
    "    SELECT \n",
    "    test_grp,\n",
    "    (count(DISTINCT r.st_id)-1)/ count(DISTINCT st_id)*100 AS CR\n",
    "    FROM \n",
    "    studs as l\n",
    "    LEFT JOIN\n",
    "        final_project_check as r \n",
    "        ON\n",
    "        l.st_id =  r.st_id\n",
    "    GROUP BY test_grp\n",
    "    ) as a\n",
    "LEFT JOIN\n",
    "    (\n",
    "    SELECT\n",
    "      test_grp,\n",
    "     AVG (money) AS APRU\n",
    "     FROM \n",
    "        (SELECT\n",
    "            l.st_id,\n",
    "            l.test_grp,\n",
    "            r.money as money\n",
    "        FROM\n",
    "            studs as l\n",
    "        LEFT JOIN\n",
    "            (\n",
    "            SELECT\n",
    "                st_id,\n",
    "                SUM(money) as money\n",
    "            FROM final_project_check\n",
    "            GROUP BY st_id\n",
    "            ) as r\n",
    "        ON  \n",
    "        l.st_id = r.st_id\n",
    "            )\n",
    "    GROUP BY\n",
    "        test_grp\n",
    "    ) as b\n",
    "ON a.test_grp = b.test_grp\n",
    "\n",
    "LEFT JOIN\n",
    "    (\n",
    "        SELECT\n",
    "     test_grp,\n",
    "     AVG (sum_buy) AS ARPAU,\n",
    "     (count(DISTINCT r2.st_id)-1)/ count(DISTINCT l.st_id)*100 AS CR_ACTIV\n",
    "     FROM\n",
    "        (\n",
    "        SELECT \n",
    "        st_id,\n",
    "        sum(correct) AS goroshin_month\n",
    "        FROM peas\n",
    "        GROUP By \n",
    "            st_id\n",
    "        HAVING\n",
    "            goroshin_month > 10\n",
    "        ) as l\n",
    "    LEFT JOIN\n",
    "        studs as r1\n",
    "        ON\n",
    "            l.st_id =  r1.st_id\n",
    "    LEFT JOIN\n",
    "        (\n",
    "        SELECT\n",
    "        st_id,\n",
    "        SUM(money) as sum_buy\n",
    "        FROM final_project_check\n",
    "        GROUP BY st_id\n",
    "        ) as r2\n",
    "        ON\n",
    "            l.st_id =  r2.st_id\n",
    "    GROUP BY test_grp        \n",
    "    ) as c\n",
    "ON a.test_grp = c.test_grp\n",
    "\n",
    "LEFT JOIN\n",
    "    (\n",
    "        SELECT\n",
    "        test_grp,\n",
    "        (count(DISTINCT r2.st_id)-1)/ count(DISTINCT l.st_id)*100 AS CR_ACTIV_MATH\n",
    "        FROM\n",
    "            (\n",
    "            SELECT\n",
    "            st_id,\n",
    "            sum(correct) AS goroshin_math\n",
    "            FROM peas\n",
    "            WHERE subject = 'Math'\n",
    "            GROUP BY st_id\n",
    "            HAVING goroshin_math >= 2\n",
    "            ) as l\n",
    "        LEFT JOIN\n",
    "            studs as r1\n",
    "            ON\n",
    "                l.st_id =  r1.st_id\n",
    "        LEFT JOIN\n",
    "            (\n",
    "            SELECT\n",
    "            st_id,\n",
    "            SUM(money) as sum_buy\n",
    "            FROM final_project_check\n",
    "            WHERE subject = 'Math'\n",
    "            GROUP BY st_id\n",
    "            ) as r2\n",
    "            ON\n",
    "                l.st_id =  r2.st_id\n",
    "        GROUP BY test_grp\n",
    "    ) as d\n",
    "ON a.test_grp = d.test_grp\n",
    "\n",
    "    \"\"\"\n",
    "\n",
    "# отправляем запрос и записываем результат в пандасовский датафрейм\n",
    "q_test = ph.read_clickhouse(query=q, connection=connection_default)\n",
    "q_test"
   ]
  },
  {
   "cell_type": "markdown",
   "metadata": {},
   "source": [
    "Задание 3. Python\n",
    "\n",
    "3.1 Задача\n",
    "\n",
    "Реализуйте функцию, которая будет автоматически подгружать информацию из дополнительного файла groups_add.csv (заголовки могут отличаться) и на основании дополнительных параметров пересчитывать метрики.\n",
    "\n",
    "Реализуйте функцию, которая будет строить графики по получаемым метрикам."
   ]
  },
  {
   "cell_type": "code",
   "execution_count": 130,
   "metadata": {},
   "outputs": [],
   "source": [
    "# Берем как первоночальный файл groups.csv из первого задания. Предпологаем, что он уже существует.\n",
    "groups = pd.read_csv('Проект_2_groups.csv', sep=';')"
   ]
  },
  {
   "cell_type": "code",
   "execution_count": 131,
   "metadata": {},
   "outputs": [
    {
     "name": "stdout",
     "output_type": "stream",
     "text": [
      "           id grp\n",
      "0     5694584   B\n",
      "1     5694830   B\n",
      "2     5695057   B\n",
      "3     5698872   B\n",
      "4     5699067   B\n",
      "..        ...  ..\n",
      "87  200247820   B\n",
      "88  201032527   B\n",
      "89  201067612   B\n",
      "90  201067653   B\n",
      "91  201067659   B\n",
      "\n",
      "[92 rows x 2 columns]\n"
     ]
    },
    {
     "ename": "KeyboardInterrupt",
     "evalue": "",
     "output_type": "error",
     "traceback": [
      "\u001b[0;31m---------------------------------------------------------------------------\u001b[0m",
      "\u001b[0;31mKeyboardInterrupt\u001b[0m                         Traceback (most recent call last)",
      "\u001b[0;32m<ipython-input-131-102e5ff330ec>\u001b[0m in \u001b[0;36m<module>\u001b[0;34m\u001b[0m\n\u001b[1;32m      2\u001b[0m     \u001b[0mgroup_add\u001b[0m \u001b[0;34m=\u001b[0m \u001b[0mpd\u001b[0m\u001b[0;34m.\u001b[0m\u001b[0mread_csv\u001b[0m\u001b[0;34m(\u001b[0m\u001b[0;34m'Проект_2_group_add.csv'\u001b[0m\u001b[0;34m,\u001b[0m \u001b[0msep\u001b[0m\u001b[0;34m=\u001b[0m\u001b[0;34m','\u001b[0m\u001b[0;34m)\u001b[0m\u001b[0;34m\u001b[0m\u001b[0;34m\u001b[0m\u001b[0m\n\u001b[1;32m      3\u001b[0m     \u001b[0mprint\u001b[0m\u001b[0;34m(\u001b[0m\u001b[0mgroup_add\u001b[0m\u001b[0;34m)\u001b[0m\u001b[0;34m\u001b[0m\u001b[0;34m\u001b[0m\u001b[0m\n\u001b[0;32m----> 4\u001b[0;31m     \u001b[0mtime\u001b[0m\u001b[0;34m.\u001b[0m\u001b[0msleep\u001b[0m\u001b[0;34m(\u001b[0m\u001b[0;36m3600\u001b[0m\u001b[0;34m)\u001b[0m \u001b[0;31m#файл будет выгружаться повторно через 1 час\u001b[0m\u001b[0;34m\u001b[0m\u001b[0;34m\u001b[0m\u001b[0m\n\u001b[0m",
      "\u001b[0;31mKeyboardInterrupt\u001b[0m: "
     ]
    }
   ],
   "source": [
    "while True:\n",
    "    group_add = pd.read_csv('Проект_2_group_add.csv', sep=',')\n",
    "    print(group_add)\n",
    "    time.sleep(3600) #файл будет выгружаться повторно через 1 час"
   ]
  },
  {
   "cell_type": "code",
   "execution_count": 132,
   "metadata": {},
   "outputs": [],
   "source": [
    "#пишем функцию, которая будет считать метрики для обновленного файла\n",
    "def gr_add(group_add_1, groups_1):\n",
    "    # сохраняем старый датафрейм для построения сравнительных графиков\n",
    "    groups_OLD = groups_1\n",
    "    # загружаем файлы с дополнительными параметрами\n",
    "    active_studs = pd.read_csv('Проект_2_active_studs.csv')\n",
    "    checks = pd.read_csv('Проект_2_checks.csv', sep=';')\n",
    "    \n",
    "    # соединяем два выгруженных файла без учета совподения названия заголовков при помощи перевода в массивы\n",
    "    grops_NEW = pd.DataFrame(np.split(np.concatenate((groups_OLD.values.ravel(), group_add.values.ravel())),\n",
    "    len(np.concatenate((groups_OLD.values.ravel(), group_add.values.ravel()))) / 2))\n",
    "    grops_NEW.columns = ['student_id', 'grp']   \n",
    "\n",
    "    groups_OLD = groups_OLD.rename(columns={'id': 'student_id'})\n",
    "    # добавляем дополнительные параметры к старой таблице\n",
    "    active_studs_check_OLD = active_studs.merge(groups_OLD, how='left', on='student_id')\n",
    "    active_studs_check_OLD = active_studs_check_OLD.merge(checks, how='left', on='student_id')\n",
    "    active_studs_check_OLD['rev'] = active_studs_check_OLD['rev'].fillna(0)\n",
    "    active_studs_check_OLD = active_studs_check_OLD.dropna()\n",
    "\n",
    "    # добавляем дополнительные параметры к новой таблице\n",
    "    active_studs_check_NEW = active_studs.merge(grops_NEW, how='left', on= 'student_id')\n",
    "    active_studs_check_NEW = active_studs_check_NEW.merge(checks, how='left', on='student_id')\n",
    "    active_studs_check_NEW['rev'] = active_studs_check_NEW['rev'].fillna(0)\n",
    "    active_studs_check_NEW = active_studs_check_NEW.dropna()\n",
    "\n",
    "    # создаем файл для подсчета основных метрик в старой и новой таблицах\n",
    "    data = pd.DataFrame({\n",
    "    'groups': ['OLD', 'NEW'], \n",
    "    'unique_id': [groups_OLD.student_id.nunique(), grops_NEW.student_id.nunique()],\n",
    "    'CR': [active_studs_check_OLD.query(\"rev > 0\").rev.count() / active_studs_check_OLD.rev.count() * 100,\n",
    "    active_studs_check_NEW.query(\"rev > 0\").rev.count() / active_studs_check_NEW.rev.count() * 100],\n",
    "    'ARPU': [active_studs_check_OLD.rev.mean(), active_studs_check_NEW.rev.mean()],\n",
    "    'ARPAU': [active_studs_check_OLD.query(\"rev > 0\").rev.mean(), \n",
    "    active_studs_check_NEW.query(\"rev > 0\").rev.mean()]\n",
    "                            })\n",
    "    return data"
   ]
  },
  {
   "cell_type": "code",
   "execution_count": 133,
   "metadata": {},
   "outputs": [],
   "source": [
    "data = gr_add(group_add,groups)"
   ]
  },
  {
   "cell_type": "code",
   "execution_count": 134,
   "metadata": {},
   "outputs": [
    {
     "data": {
      "text/html": [
       "<style  type=\"text/css\" >\n",
       "</style><table id=\"T_923ed25e_b365_11ed_bdbb_96000040dfb6\" ><caption>ОСНОВНЫЕ МЕТРИКИ</caption><thead>    <tr>        <th class=\"col_heading level0 col0\" >groups</th>        <th class=\"col_heading level0 col1\" >unique_id</th>        <th class=\"col_heading level0 col2\" >CR</th>        <th class=\"col_heading level0 col3\" >ARPU</th>        <th class=\"col_heading level0 col4\" >ARPAU</th>    </tr></thead><tbody>\n",
       "                <tr>\n",
       "                                <td id=\"T_923ed25e_b365_11ed_bdbb_96000040dfb6row0_col0\" class=\"data row0 col0\" >OLD</td>\n",
       "                        <td id=\"T_923ed25e_b365_11ed_bdbb_96000040dfb6row0_col1\" class=\"data row0 col1\" >74484</td>\n",
       "                        <td id=\"T_923ed25e_b365_11ed_bdbb_96000040dfb6row0_col2\" class=\"data row0 col2\" >4.695005</td>\n",
       "                        <td id=\"T_923ed25e_b365_11ed_bdbb_96000040dfb6row0_col3\" class=\"data row0 col3\" >55.943084</td>\n",
       "                        <td id=\"T_923ed25e_b365_11ed_bdbb_96000040dfb6row0_col4\" class=\"data row0 col4\" >1191.544766</td>\n",
       "            </tr>\n",
       "            <tr>\n",
       "                                <td id=\"T_923ed25e_b365_11ed_bdbb_96000040dfb6row1_col0\" class=\"data row1 col0\" >NEW</td>\n",
       "                        <td id=\"T_923ed25e_b365_11ed_bdbb_96000040dfb6row1_col1\" class=\"data row1 col1\" >74576</td>\n",
       "                        <td id=\"T_923ed25e_b365_11ed_bdbb_96000040dfb6row1_col2\" class=\"data row1 col2\" >4.699676</td>\n",
       "                        <td id=\"T_923ed25e_b365_11ed_bdbb_96000040dfb6row1_col3\" class=\"data row1 col3\" >56.083683</td>\n",
       "                        <td id=\"T_923ed25e_b365_11ed_bdbb_96000040dfb6row1_col4\" class=\"data row1 col4\" >1193.352050</td>\n",
       "            </tr>\n",
       "    </tbody></table>"
      ],
      "text/plain": [
       "<pandas.io.formats.style.Styler at 0x7f56f23134e0>"
      ]
     },
     "execution_count": 134,
     "metadata": {},
     "output_type": "execute_result"
    }
   ],
   "source": [
    "data.style.hide_index().set_caption('ОСНОВНЫЕ МЕТРИКИ')"
   ]
  },
  {
   "cell_type": "markdown",
   "metadata": {},
   "source": [
    "2. Реализуйте функцию, которая будет строить графики по получаемым метрикам."
   ]
  },
  {
   "cell_type": "code",
   "execution_count": 135,
   "metadata": {},
   "outputs": [],
   "source": [
    "def grafic(data_1):\n",
    "    i = 1\n",
    "    while i < 5:\n",
    "        name = data_1.columns\n",
    "        plt.figure(figsize=(12, 17))\n",
    "        fig = plt.subplot(4, 1, i)\n",
    "        print (sns.barplot(x=np.array(data_1.iloc[:, [0]]).ravel(), y=np.array(data_1.iloc[:, [i]]).ravel()))\n",
    "        plt.title(name[i], fontsize=15)\n",
    "        i += 1"
   ]
  },
  {
   "cell_type": "code",
   "execution_count": 136,
   "metadata": {},
   "outputs": [
    {
     "name": "stdout",
     "output_type": "stream",
     "text": [
      "AxesSubplot(0.125,0.71587;0.775x0.16413)\n",
      "AxesSubplot(0.125,0.518913;0.775x0.16413)\n",
      "AxesSubplot(0.125,0.321957;0.775x0.16413)\n",
      "AxesSubplot(0.125,0.125;0.775x0.16413)\n"
     ]
    },
    {
     "data": {
      "image/png": "[encoded data removed]",
      "text/plain": [
       "<Figure size 864x1224 with 1 Axes>"
      ]
     },
     "metadata": {},
     "output_type": "display_data"
    },
    {
     "data": {
      "image/png": "[encoded data removed]",
      "text/plain": [
       "<Figure size 864x1224 with 1 Axes>"
      ]
     },
     "metadata": {},
     "output_type": "display_data"
    },
    {
     "data": {
      "image/png": "[encoded data removed]",
      "text/plain": [
       "<Figure size 864x1224 with 1 Axes>"
      ]
     },
     "metadata": {},
     "output_type": "display_data"
    },
    {
     "data": {
      "image/png": "[encoded data removed]",
      "text/plain": [
       "<Figure size 864x1224 with 1 Axes>"
      ]
     },
     "metadata": {},
     "output_type": "display_data"
    }
   ],
   "source": [
    "grafic(data)"
   ]
  },
  {
   "cell_type": "code",
   "execution_count": null,
   "metadata": {},
   "outputs": [],
   "source": []
  }
 ],
 "metadata": {
  "kernelspec": {
   "display_name": "Python 3",
   "language": "python",
   "name": "python3"
  },
  "language_info": {
   "codemirror_mode": {
    "name": "ipython",
    "version": 3
   },
   "file_extension": ".py",
   "mimetype": "text/x-python",
   "name": "python",
   "nbconvert_exporter": "python",
   "pygments_lexer": "ipython3",
   "version": "3.7.3"
  }
 },
 "nbformat": 4,
 "nbformat_minor": 4
}
